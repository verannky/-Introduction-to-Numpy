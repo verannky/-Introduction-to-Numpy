{
  "nbformat": 4,
  "nbformat_minor": 5,
  "metadata": {
    "kernelspec": {
      "display_name": "Python 3",
      "language": "python",
      "name": "python3"
    },
    "language_info": {
      "codemirror_mode": {
        "name": "ipython",
        "version": 3
      },
      "file_extension": ".py",
      "mimetype": "text/x-python",
      "name": "python",
      "nbconvert_exporter": "python",
      "pygments_lexer": "ipython3",
      "version": "3.8.8"
    },
    "colab": {
      "name": "Nunky Febilia Verany_Homework 3 Week 5.ipynb",
      "provenance": []
    }
  },
  "cells": [
    {
      "cell_type": "markdown",
      "metadata": {
        "id": "a470319d"
      },
      "source": [
        "No.1 Membuat matriks dengan numpy"
      ],
      "id": "a470319d"
    },
    {
      "cell_type": "code",
      "metadata": {
        "id": "188f018a"
      },
      "source": [
        "import numpy as np"
      ],
      "id": "188f018a",
      "execution_count": null,
      "outputs": []
    },
    {
      "cell_type": "code",
      "metadata": {
        "id": "6f5fcd72",
        "outputId": "f67e4c51-5747-456c-8201-920a1cd08426"
      },
      "source": [
        "matriks = np.array([[3,4,1],\n",
        "                    [2,1,1],\n",
        "                    [1,1,1]])\n",
        "print(matriks)"
      ],
      "id": "6f5fcd72",
      "execution_count": null,
      "outputs": [
        {
          "name": "stdout",
          "output_type": "stream",
          "text": [
            "[[3 4 1]\n",
            " [2 1 1]\n",
            " [1 1 1]]\n"
          ]
        }
      ]
    },
    {
      "cell_type": "markdown",
      "metadata": {
        "id": "ec8381c7"
      },
      "source": [
        "No.2 Carilah inverse dari matriks tersebut"
      ],
      "id": "ec8381c7"
    },
    {
      "cell_type": "code",
      "metadata": {
        "id": "c4a2f790",
        "outputId": "32fba69a-71c9-4532-b86f-65fb6c5e290c"
      },
      "source": [
        "matriks_inverse = np.linalg.inv(matriks)\n",
        "matriks_inverse"
      ],
      "id": "c4a2f790",
      "execution_count": null,
      "outputs": [
        {
          "data": {
            "text/plain": [
              "array([[ 0.        ,  1.        , -1.        ],\n",
              "       [ 0.33333333, -0.66666667,  0.33333333],\n",
              "       [-0.33333333, -0.33333333,  1.66666667]])"
            ]
          },
          "execution_count": 7,
          "metadata": {},
          "output_type": "execute_result"
        }
      ]
    },
    {
      "cell_type": "markdown",
      "metadata": {
        "id": "802312ea"
      },
      "source": [
        "No.3 Kalikan matriks tersebut dengan inversenya"
      ],
      "id": "802312ea"
    },
    {
      "cell_type": "code",
      "metadata": {
        "id": "ade11c3c",
        "outputId": "18a75d6b-459a-4a52-9e66-245790d1e21c"
      },
      "source": [
        "np.matmul(matriks,matriks_inverse)"
      ],
      "id": "ade11c3c",
      "execution_count": null,
      "outputs": [
        {
          "data": {
            "text/plain": [
              "array([[ 1.00000000e+00, -2.22044605e-16,  0.00000000e+00],\n",
              "       [ 0.00000000e+00,  1.00000000e+00,  0.00000000e+00],\n",
              "       [ 0.00000000e+00,  0.00000000e+00,  1.00000000e+00]])"
            ]
          },
          "execution_count": 9,
          "metadata": {},
          "output_type": "execute_result"
        }
      ]
    }
  ]
}